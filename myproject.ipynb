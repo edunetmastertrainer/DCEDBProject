{
 "cells": [
  {
   "cell_type": "code",
   "execution_count": 1,
   "id": "aca2ce74-3091-4d1d-b7fc-f3222f591ac3",
   "metadata": {},
   "outputs": [
    {
     "name": "stdout",
     "output_type": "stream",
     "text": [
      "Requirement already satisfied: mysql-connector-python in c:\\users\\re_go\\anaconda3\\envs\\myenv1\\lib\\site-packages (9.2.0)\n"
     ]
    }
   ],
   "source": [
    "!pip install mysql-connector-python"
   ]
  },
  {
   "cell_type": "code",
   "execution_count": 15,
   "id": "8f8066f1-2363-4b6c-a0ee-1cee8b260823",
   "metadata": {},
   "outputs": [
    {
     "name": "stdout",
     "output_type": "stream",
     "text": [
      "[('dcebatch4',), ('dcetbatch1',), ('employees',), ('information_schema',), ('mysql',), ('performance_schema',), ('sakila',), ('sys',), ('world',)]\n"
     ]
    }
   ],
   "source": [
    "import mysql.connector\n",
    "try:\n",
    "    con = mysql.connector.connect(host='localhost',user='root',password='Ascii@1234',database='dcebatch4')\n",
    "    cur = con.cursor()\n",
    "    cur.execute('show databases;')\n",
    "    print(cur.fetchall())\n",
    "    con.close()\n",
    "except Exception as e:\n",
    "    print(e)"
   ]
  },
  {
   "cell_type": "code",
   "execution_count": 62,
   "id": "ffb3ccc1-a4b9-4100-892c-ba9748a2c860",
   "metadata": {},
   "outputs": [
    {
     "name": "stdout",
     "output_type": "stream",
     "text": [
      "********************Welcome to My APP********************\n",
      "1. Signin\n",
      "2. Signup\n",
      "3. Search\n",
      "4.DisplayAll\n",
      "5. Exit\n"
     ]
    },
    {
     "name": "stdin",
     "output_type": "stream",
     "text": [
      "Enter Your Choice 4\n"
     ]
    },
    {
     "name": "stdout",
     "output_type": "stream",
     "text": [
      "********************All Records********************\n",
      "2001\tbob\tcse\t2002\n",
      "2002\tjoy\tit\t2003\n",
      "********************END********************\n",
      "1. Signin\n",
      "2. Signup\n",
      "3. Search\n",
      "4.DisplayAll\n",
      "5. Exit\n"
     ]
    },
    {
     "name": "stdin",
     "output_type": "stream",
     "text": [
      "Enter Your Choice 5\n"
     ]
    }
   ],
   "source": [
    "import mysql.connector\n",
    "def signup(data):\n",
    "    try:\n",
    "        con = mysql.connector.connect(host='localhost',user='root',password='Ascii@1234',database='dcebatch4')\n",
    "        cur = con.cursor()\n",
    "        cur.execute(f'select * from student_record where roll={data[0]}')\n",
    "        if cur.fetchone():\n",
    "            con.close()\n",
    "            return False\n",
    "        else:\n",
    "            myquery = 'INSERT INTO student_record(roll,name,password,branch,admin_year,per_10,per_12) VALUES (%s,%s,%s,%s,%s,%s,%s)'\n",
    "            cur.execute(myquery,data)\n",
    "            con.commit()\n",
    "            con.close()\n",
    "            return True\n",
    "    except Exception as e:\n",
    "        print(e)\n",
    "def signin(data):\n",
    "    try:\n",
    "        con = mysql.connector.connect(host='localhost',user='root',password='Ascii@1234',database='dcebatch4')\n",
    "        cur = con.cursor()\n",
    "        cur.execute(f'select * from student_record where roll={data[0]}')\n",
    "        result = cur.fetchone()\n",
    "        if result != None and result[0]==data[0] and result[2]==data[1]:\n",
    "            con.close()\n",
    "            return True\n",
    "        else:\n",
    "            con.close()\n",
    "            return False\n",
    "    except Exception as e:\n",
    "        print(e)\n",
    "def search(roll):\n",
    "    try:\n",
    "        con = mysql.connector.connect(host='localhost',user='root',password='Ascii@1234',database='dcebatch4')\n",
    "        cur = con.cursor()\n",
    "        cur.execute(f'select * from student_record where roll={roll}')\n",
    "        result = cur.fetchone()\n",
    "        if result:\n",
    "            con.close()\n",
    "            return result\n",
    "        else:\n",
    "            con.close()\n",
    "            return ()\n",
    "    except Exception as e:\n",
    "        print(e)\n",
    "def displayall():\n",
    "    try:\n",
    "        con = mysql.connector.connect(host='localhost',user='root',password='Ascii@1234',database='dcebatch4')\n",
    "        cur = con.cursor()\n",
    "        cur.execute('select * from student_record')\n",
    "        return cur.fetchall()\n",
    "    except Exception as e:\n",
    "        print(e)\n",
    "print('*'*20 + \"Welcome to My APP\"+\"*\"*20)\n",
    "while True:\n",
    "    print(\"1. Signin\\n2. Signup\\n3. Search\\n4.DisplayAll\\n5. Exit\")\n",
    "    ch = int(input(\"Enter Your Choice\"))\n",
    "    if ch==1:\n",
    "        roll = int(input(\"Enter your Roll Number\"))\n",
    "        password = input(\"Enter Your Password\")\n",
    "        if signin((roll,password)):\n",
    "            print(\"You are succesfully Login\")\n",
    "        else:\n",
    "            print(\"Wrong Roll no or Password\")\n",
    "    elif ch==2:\n",
    "        roll = int(input(\"Enter your Roll Number\"))\n",
    "        name = input(\"Enter Your Name\")\n",
    "        password = input(\"Enter Your Password\")\n",
    "        branch = input(\"Enter Your Branch\")\n",
    "        admin_year = input(\"Enter Your Admission Year\")\n",
    "        per_10 = int(input(\"Enter 10th Percentage\"))\n",
    "        per_12 = int(input(\"Enter 12th Percentage\"))\n",
    "        if signup((roll,name,password,branch,admin_year,per_10,per_12)):\n",
    "            print(\"Student Registerd\")\n",
    "        else:\n",
    "            print(\"Student already Exits\")\n",
    "    elif ch==3:\n",
    "        roll = int(input(\"Enter Roll Number to Search\"))\n",
    "        info = search(roll)\n",
    "        print(info)\n",
    "    elif ch==4:\n",
    "        allrecord = displayall()\n",
    "        print(\"*\"*20+\"All Records\"+\"*\"*20)\n",
    "        for record in allrecord:\n",
    "            print(f\"{record[0]}\\t{record[1]}\\t{record[3]}\\t{record[4]}\")\n",
    "        print(\"*\"*20 + \"END\" + \"*\"*20)\n",
    "    elif ch==5:\n",
    "        break\n",
    "    else:\n",
    "        print(\"wrong Choice\")\n",
    "    "
   ]
  },
  {
   "cell_type": "code",
   "execution_count": 43,
   "id": "b80103c2-cdca-4146-afcc-2f53f567cfeb",
   "metadata": {},
   "outputs": [
    {
     "name": "stdout",
     "output_type": "stream",
     "text": [
      "hi\n"
     ]
    }
   ],
   "source": []
  },
  {
   "cell_type": "code",
   "execution_count": null,
   "id": "c76eb45d-718b-47bc-83dd-0577c9440d15",
   "metadata": {},
   "outputs": [],
   "source": []
  }
 ],
 "metadata": {
  "kernelspec": {
   "display_name": "Python [conda env:myenv1]",
   "language": "python",
   "name": "conda-env-myenv1-py"
  },
  "language_info": {
   "codemirror_mode": {
    "name": "ipython",
    "version": 3
   },
   "file_extension": ".py",
   "mimetype": "text/x-python",
   "name": "python",
   "nbconvert_exporter": "python",
   "pygments_lexer": "ipython3",
   "version": "3.12.9"
  }
 },
 "nbformat": 4,
 "nbformat_minor": 5
}
